{
  "nbformat": 4,
  "nbformat_minor": 0,
  "metadata": {
    "colab": {
      "name": "Unit 20 analysis.ipynb",
      "provenance": [],
      "collapsed_sections": [],
      "include_colab_link": true
    },
    "kernelspec": {
      "name": "python3",
      "display_name": "Python 3"
    }
  },
  "cells": [
    {
      "cell_type": "markdown",
      "metadata": {
        "id": "view-in-github",
        "colab_type": "text"
      },
      "source": [
        "<a href=\"https://colab.research.google.com/github/brachbach/6ees6ees6ees/blob/master/Unit_20_analysis.ipynb\" target=\"_parent\"><img src=\"https://colab.research.google.com/assets/colab-badge.svg\" alt=\"Open In Colab\"/></a>"
      ]
    },
    {
      "cell_type": "code",
      "metadata": {
        "id": "7-ZqXr0L51pv",
        "colab_type": "code",
        "colab": {}
      },
      "source": [
        "import pandas as pd\n",
        "import json\n",
        "from statistics import median\n",
        "root_trees = json.load(open('/content/unit20ClaimTrees.json'))"
      ],
      "execution_count": 0,
      "outputs": []
    },
    {
      "cell_type": "code",
      "metadata": {
        "id": "SVx_-rNLtvew",
        "colab_type": "code",
        "colab": {}
      },
      "source": [
        "def getAllSubtrees(parentClaimTree):\n",
        "  lower_trees = [getAllSubtrees(childTree) for childTree in parentClaimTree['supportingTrees'] if len(childTree['supportingTrees']) > 0]\n",
        "  lower_trees_flat = [claim for nested_claims in lower_trees for claim in nested_claims]\n",
        "  return [parentClaimTree] + lower_trees_flat"
      ],
      "execution_count": 0,
      "outputs": []
    },
    {
      "cell_type": "code",
      "metadata": {
        "id": "aCZAdjlTyvSV",
        "colab_type": "code",
        "colab": {}
      },
      "source": [
        "def getLowestMedianCredence(claimTree):\n",
        "  subtrees = getAllSubtrees(claimTree)\n",
        "  median_credences = [getMedianContractorCredence(subtree) for subtree in subtrees]\n",
        "  if None in median_credences:\n",
        "    return None\n",
        "  return min(median_credences)\n",
        "\n",
        "def getMedianContractorCredence(claimTreeNode):\n",
        "  if len(claimTreeNode['contractorJudgeCredences']) == 0:\n",
        "    return None\n",
        "  values = [int(credence['value']) for credence in claimTreeNode['contractorJudgeCredences']]\n",
        "  return min(values)\n"
      ],
      "execution_count": 0,
      "outputs": []
    },
    {
      "cell_type": "code",
      "metadata": {
        "id": "3JcD5dWN7ZtG",
        "colab_type": "code",
        "colab": {
          "base_uri": "https://localhost:8080/",
          "height": 51
        },
        "outputId": "b7bbfe82-11c2-483a-e5e2-86cda4439430"
      },
      "source": [
        "root_trees_with_true_root_claims = [root_tree for root_tree in root_trees if int(root_tree['generatorCredence']['value']) >= 97]\n",
        "root_trees_with_false_root_claims = [root_tree for root_tree in root_trees if int(root_tree['generatorCredence']['value']) <= 3]\n",
        "\n",
        "weakest_link_credences_for_true_root_claims = [getLowestMedianCredence(root_tree[\"claimTree\"]) for root_tree in root_trees_with_true_root_claims]\n",
        "weakest_link_credences_for_false_root_claims = [getLowestMedianCredence(root_tree[\"claimTree\"]) for root_tree in root_trees_with_false_root_claims]\n",
        "\n",
        "print(weakest_link_credences_for_true_root_claims)\n",
        "print(weakest_link_credences_for_false_root_claims)"
      ],
      "execution_count": 77,
      "outputs": [
        {
          "output_type": "stream",
          "text": [
            "[10, 45, 10, 85, 50, 80, 85, 90, 35]\n",
            "[10, 75, 10, 10, 10]\n"
          ],
          "name": "stdout"
        }
      ]
    },
    {
      "cell_type": "code",
      "metadata": {
        "id": "Bgopyn-v1dwl",
        "colab_type": "code",
        "colab": {
          "base_uri": "https://localhost:8080/",
          "height": 34
        },
        "outputId": "582e0873-7761-4380-c7a4-57ced34ac82d"
      },
      "source": [
        "# json.dumps(getAllSubtrees(trees[0]['claimTree']))\n",
        "# getLowestMedianCredence(trees[0]['claimTree'])\n",
        "# print([getLowestMedianCredence(root_tree[\"claimTree\"]) for root_tree in root_trees])\n",
        "# print(getLowestMedianCredence(root_trees[2][\"claimTree\"]))\n",
        "print([int(root_tree['generatorCredence']['value']) for root_tree in root_trees])"
      ],
      "execution_count": 75,
      "outputs": [
        {
          "output_type": "stream",
          "text": [
            "[3, 98, 3, 3, 3, 3, 45, 100, 99, 100, 50, 50, 100, 100, 90, 95, 100, 100, 80, 100]\n"
          ],
          "name": "stdout"
        }
      ]
    },
    {
      "cell_type": "code",
      "metadata": {
        "id": "miHqNTEt_w_0",
        "colab_type": "code",
        "colab": {
          "base_uri": "https://localhost:8080/",
          "height": 34
        },
        "outputId": "76da6af0-6d15-4198-f511-8ed53e03ccac"
      },
      "source": [
        "median([100, 90, 75])\n",
        "\n",
        "6/9\n",
        "3/5\n",
        "\n"
      ],
      "execution_count": 68,
      "outputs": [
        {
          "output_type": "execute_result",
          "data": {
            "text/plain": [
              "90"
            ]
          },
          "metadata": {
            "tags": []
          },
          "execution_count": 68
        }
      ]
    }
  ]
}